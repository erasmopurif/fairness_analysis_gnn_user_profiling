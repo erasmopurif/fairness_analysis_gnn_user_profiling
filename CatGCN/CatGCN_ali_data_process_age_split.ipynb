{
 "cells": [
  {
   "cell_type": "markdown",
   "metadata": {},
   "source": [
    "# CatGCN - Alibaba dataset process"
   ]
  },
  {
   "cell_type": "code",
   "execution_count": 1,
   "metadata": {},
   "outputs": [],
   "source": [
    "import pandas as pd\n",
    "import numpy as np\n",
    "import os"
   ]
  },
  {
   "cell_type": "code",
   "execution_count": 2,
   "metadata": {},
   "outputs": [],
   "source": [
    "def show_df_info(df):\n",
    "    print(df.info())\n",
    "    print('####### Repeat ####### \\n', df.duplicated().any())\n",
    "    print('####### Count ####### \\n', df.nunique())\n",
    "    print('####### Example ####### \\n',df.head())\n",
    "\n",
    "def label_statics(label_df, label_list):\n",
    "    print(\"####### nCount #######\")\n",
    "    for label in label_list:\n",
    "        print(label_df[label].value_counts())\n",
    "    print(\"####### nPercent #######\")\n",
    "    for label in label_list:\n",
    "        print(label_df[label].value_counts()/label_df.shape[0])"
   ]
  },
  {
   "cell_type": "markdown",
   "metadata": {},
   "source": [
    "## Data path"
   ]
  },
  {
   "cell_type": "code",
   "execution_count": 3,
   "metadata": {},
   "outputs": [],
   "source": [
    "# Get raw Alibaba data from the original CatGCN folder\n",
    "raw_data_path = \"/home/purificato/papers_code/TKDE21_CatGCN/data/ali_data/_raw_data\""
   ]
  },
  {
   "cell_type": "markdown",
   "metadata": {},
   "source": [
    "## Load"
   ]
  },
  {
   "cell_type": "markdown",
   "metadata": {},
   "source": [
    "### User profile"
   ]
  },
  {
   "cell_type": "code",
   "execution_count": 4,
   "metadata": {},
   "outputs": [
    {
     "name": "stdout",
     "output_type": "stream",
     "text": [
      "<class 'pandas.core.frame.DataFrame'>\n",
      "Int64Index: 395932 entries, 1 to 1061767\n",
      "Data columns (total 9 columns):\n",
      " #   Column  Non-Null Count   Dtype  \n",
      "---  ------  --------------   -----  \n",
      " 0   uid     395932 non-null  int64  \n",
      " 1   sid     395932 non-null  int64  \n",
      " 2   gid     395932 non-null  int64  \n",
      " 3   gender  395932 non-null  int64  \n",
      " 4   age     395932 non-null  int64  \n",
      " 5   plevel  395932 non-null  float64\n",
      " 6   slevel  395932 non-null  int64  \n",
      " 7   status  395932 non-null  int64  \n",
      " 8   city    395932 non-null  float64\n",
      "dtypes: float64(2), int64(7)\n",
      "memory usage: 30.2 MB\n",
      "None\n",
      "####### Repeat ####### \n",
      " False\n",
      "####### Count ####### \n",
      " uid       395932\n",
      "sid           97\n",
      "gid           13\n",
      "gender         2\n",
      "age            7\n",
      "plevel         3\n",
      "slevel         3\n",
      "status         2\n",
      "city           4\n",
      "dtype: int64\n",
      "####### Example ####### \n",
      "     uid  sid  gid  gender  age  plevel  slevel  status  city\n",
      "1   523    5    2       2    2     1.0       3       1   2.0\n",
      "5  3644   49    6       2    6     2.0       3       0   2.0\n",
      "6  5777   44    5       2    5     2.0       3       0   2.0\n",
      "8  6355    2    1       2    1     1.0       3       0   4.0\n",
      "9  6823   43    5       2    5     2.0       3       0   1.0\n"
     ]
    }
   ],
   "source": [
    "label = pd.read_csv(os.path.join(raw_data_path, 'user_profile.csv'))\n",
    "label.dropna(inplace=True)\n",
    "label.rename(columns={'userid':'uid', 'cms_segid':'sid', 'cms_group_id':'gid', 'final_gender_code':'gender','age_level':'age', \\\n",
    "                      'pvalue_level':'plevel', 'shopping_level':'slevel', 'occupation':'status', 'new_user_class_level ':'city'}, inplace=True)\n",
    "show_df_info(label)"
   ]
  },
  {
   "cell_type": "code",
   "execution_count": 5,
   "metadata": {},
   "outputs": [
    {
     "name": "stdout",
     "output_type": "stream",
     "text": [
      "####### nCount #######\n",
      "2    269064\n",
      "1    126868\n",
      "Name: gender, dtype: int64\n",
      "3    120071\n",
      "4     94831\n",
      "2     83409\n",
      "5     73721\n",
      "1     16734\n",
      "6      7026\n",
      "0       140\n",
      "Name: age, dtype: int64\n",
      "2.0    242292\n",
      "1.0    121345\n",
      "3.0     32295\n",
      "Name: plevel, dtype: int64\n",
      "3    371196\n",
      "2     23038\n",
      "1      1698\n",
      "Name: slevel, dtype: int64\n",
      "0    367856\n",
      "1     28076\n",
      "Name: status, dtype: int64\n",
      "2.0    178624\n",
      "3.0     96252\n",
      "4.0     76959\n",
      "1.0     44097\n",
      "Name: city, dtype: int64\n",
      "####### nPercent #######\n",
      "2    0.679571\n",
      "1    0.320429\n",
      "Name: gender, dtype: float64\n",
      "3    0.303262\n",
      "4    0.239513\n",
      "2    0.210665\n",
      "5    0.186196\n",
      "1    0.042265\n",
      "6    0.017745\n",
      "0    0.000354\n",
      "Name: age, dtype: float64\n",
      "2.0    0.611954\n",
      "1.0    0.306479\n",
      "3.0    0.081567\n",
      "Name: plevel, dtype: float64\n",
      "3    0.937525\n",
      "2    0.058187\n",
      "1    0.004289\n",
      "Name: slevel, dtype: float64\n",
      "0    0.929089\n",
      "1    0.070911\n",
      "Name: status, dtype: float64\n",
      "2.0    0.451148\n",
      "3.0    0.243102\n",
      "4.0    0.194374\n",
      "1.0    0.111375\n",
      "Name: city, dtype: float64\n"
     ]
    }
   ],
   "source": [
    "label_statics(label, label.columns[3:])"
   ]
  },
  {
   "cell_type": "markdown",
   "metadata": {},
   "source": [
    "### Filter label"
   ]
  },
  {
   "cell_type": "code",
   "execution_count": 6,
   "metadata": {},
   "outputs": [
    {
     "name": "stdout",
     "output_type": "stream",
     "text": [
      "<class 'pandas.core.frame.DataFrame'>\n",
      "Int64Index: 395932 entries, 1 to 1061767\n",
      "Data columns (total 6 columns):\n",
      " #   Column   Non-Null Count   Dtype  \n",
      "---  ------   --------------   -----  \n",
      " 0   uid      395932 non-null  int64  \n",
      " 1   gender   395932 non-null  int64  \n",
      " 2   age      395932 non-null  int64  \n",
      " 3   buy      395932 non-null  float64\n",
      " 4   student  395932 non-null  int64  \n",
      " 5   city     395932 non-null  float64\n",
      "dtypes: float64(2), int64(4)\n",
      "memory usage: 21.1 MB\n",
      "None\n",
      "####### Repeat ####### \n",
      " False\n",
      "####### Count ####### \n",
      " uid        395932\n",
      "gender          2\n",
      "age             7\n",
      "buy             3\n",
      "student         2\n",
      "city            4\n",
      "dtype: int64\n",
      "####### Example ####### \n",
      "     uid  gender  age  buy  student  city\n",
      "1   523       2    2  1.0        1   2.0\n",
      "5  3644       2    6  2.0        0   2.0\n",
      "6  5777       2    5  2.0        0   2.0\n",
      "8  6355       2    1  1.0        0   4.0\n",
      "9  6823       2    5  2.0        0   1.0\n"
     ]
    }
   ],
   "source": [
    "label = pd.read_csv(os.path.join(raw_data_path, 'user_profile.csv'), usecols=[0,3,4,5,7,8])\n",
    "label.dropna(inplace=True)\n",
    "label.rename(columns={'userid':'uid', 'final_gender_code':'gender','age_level':'age', 'pvalue_level':'buy', 'occupation':'student', 'new_user_class_level ':'city'}, inplace=True)\n",
    "\n",
    "show_df_info(label)"
   ]
  },
  {
   "cell_type": "code",
   "execution_count": 7,
   "metadata": {},
   "outputs": [
    {
     "name": "stdout",
     "output_type": "stream",
     "text": [
      "####### nCount #######\n",
      "2    269064\n",
      "1    126868\n",
      "Name: gender, dtype: int64\n",
      "3    120071\n",
      "4     94831\n",
      "2     83409\n",
      "5     73721\n",
      "1     16734\n",
      "6      7026\n",
      "0       140\n",
      "Name: age, dtype: int64\n",
      "2.0    242292\n",
      "1.0    121345\n",
      "3.0     32295\n",
      "Name: buy, dtype: int64\n",
      "0    367856\n",
      "1     28076\n",
      "Name: student, dtype: int64\n",
      "2.0    178624\n",
      "3.0     96252\n",
      "4.0     76959\n",
      "1.0     44097\n",
      "Name: city, dtype: int64\n",
      "####### nPercent #######\n",
      "2    0.679571\n",
      "1    0.320429\n",
      "Name: gender, dtype: float64\n",
      "3    0.303262\n",
      "4    0.239513\n",
      "2    0.210665\n",
      "5    0.186196\n",
      "1    0.042265\n",
      "6    0.017745\n",
      "0    0.000354\n",
      "Name: age, dtype: float64\n",
      "2.0    0.611954\n",
      "1.0    0.306479\n",
      "3.0    0.081567\n",
      "Name: buy, dtype: float64\n",
      "0    0.929089\n",
      "1    0.070911\n",
      "Name: student, dtype: float64\n",
      "2.0    0.451148\n",
      "3.0    0.243102\n",
      "4.0    0.194374\n",
      "1.0    0.111375\n",
      "Name: city, dtype: float64\n"
     ]
    }
   ],
   "source": [
    "label_statics(label, label.columns[1:])"
   ]
  },
  {
   "cell_type": "markdown",
   "metadata": {},
   "source": [
    "### bin_age"
   ]
  },
  {
   "cell_type": "code",
   "execution_count": 8,
   "metadata": {},
   "outputs": [
    {
     "name": "stdout",
     "output_type": "stream",
     "text": [
      "####### nCount #######\n",
      "2    269064\n",
      "1    126868\n",
      "Name: gender, dtype: int64\n",
      "3    120071\n",
      "4     94831\n",
      "2     83409\n",
      "5     73721\n",
      "1     16734\n",
      "6      7026\n",
      "0       140\n",
      "Name: age, dtype: int64\n",
      "2.0    242292\n",
      "1.0    121345\n",
      "3.0     32295\n",
      "Name: buy, dtype: int64\n",
      "0    367856\n",
      "1     28076\n",
      "Name: student, dtype: int64\n",
      "2.0    178624\n",
      "3.0     96252\n",
      "4.0     76959\n",
      "1.0     44097\n",
      "Name: city, dtype: int64\n",
      "0    275861\n",
      "1    120071\n",
      "Name: bin_age, dtype: int64\n",
      "####### nPercent #######\n",
      "2    0.679571\n",
      "1    0.320429\n",
      "Name: gender, dtype: float64\n",
      "3    0.303262\n",
      "4    0.239513\n",
      "2    0.210665\n",
      "5    0.186196\n",
      "1    0.042265\n",
      "6    0.017745\n",
      "0    0.000354\n",
      "Name: age, dtype: float64\n",
      "2.0    0.611954\n",
      "1.0    0.306479\n",
      "3.0    0.081567\n",
      "Name: buy, dtype: float64\n",
      "0    0.929089\n",
      "1    0.070911\n",
      "Name: student, dtype: float64\n",
      "2.0    0.451148\n",
      "3.0    0.243102\n",
      "4.0    0.194374\n",
      "1.0    0.111375\n",
      "Name: city, dtype: float64\n",
      "0    0.696738\n",
      "1    0.303262\n",
      "Name: bin_age, dtype: float64\n"
     ]
    }
   ],
   "source": [
    "label['bin_age'] = label['age']\n",
    "label['bin_age'] = label['bin_age'].replace(1,0)\n",
    "label['bin_age'] = label['bin_age'].replace(2,0)\n",
    "label['bin_age'] = label['bin_age'].replace(3,1)\n",
    "label['bin_age'] = label['bin_age'].replace(4,0)\n",
    "label['bin_age'] = label['bin_age'].replace(5,0)\n",
    "label['bin_age'] = label['bin_age'].replace(6,0)\n",
    "\n",
    "label_statics(label, label.columns[1:])"
   ]
  },
  {
   "cell_type": "markdown",
   "metadata": {},
   "source": [
    "### bin_buy"
   ]
  },
  {
   "cell_type": "code",
   "execution_count": 9,
   "metadata": {},
   "outputs": [
    {
     "name": "stdout",
     "output_type": "stream",
     "text": [
      "####### nCount #######\n",
      "2    269064\n",
      "1    126868\n",
      "Name: gender, dtype: int64\n",
      "3    120071\n",
      "4     94831\n",
      "2     83409\n",
      "5     73721\n",
      "1     16734\n",
      "6      7026\n",
      "0       140\n",
      "Name: age, dtype: int64\n",
      "2.0    242292\n",
      "1.0    121345\n",
      "3.0     32295\n",
      "Name: buy, dtype: int64\n",
      "0    367856\n",
      "1     28076\n",
      "Name: student, dtype: int64\n",
      "2.0    178624\n",
      "3.0     96252\n",
      "4.0     76959\n",
      "1.0     44097\n",
      "Name: city, dtype: int64\n",
      "0    275861\n",
      "1    120071\n",
      "Name: bin_age, dtype: int64\n",
      "2.0    274587\n",
      "1.0    121345\n",
      "Name: bin_buy, dtype: int64\n",
      "####### nPercent #######\n",
      "2    0.679571\n",
      "1    0.320429\n",
      "Name: gender, dtype: float64\n",
      "3    0.303262\n",
      "4    0.239513\n",
      "2    0.210665\n",
      "5    0.186196\n",
      "1    0.042265\n",
      "6    0.017745\n",
      "0    0.000354\n",
      "Name: age, dtype: float64\n",
      "2.0    0.611954\n",
      "1.0    0.306479\n",
      "3.0    0.081567\n",
      "Name: buy, dtype: float64\n",
      "0    0.929089\n",
      "1    0.070911\n",
      "Name: student, dtype: float64\n",
      "2.0    0.451148\n",
      "3.0    0.243102\n",
      "4.0    0.194374\n",
      "1.0    0.111375\n",
      "Name: city, dtype: float64\n",
      "0    0.696738\n",
      "1    0.303262\n",
      "Name: bin_age, dtype: float64\n",
      "2.0    0.693521\n",
      "1.0    0.306479\n",
      "Name: bin_buy, dtype: float64\n"
     ]
    }
   ],
   "source": [
    "# Binarize 'buy' attribute by merging 'mid' and 'high' levels\n",
    "label['bin_buy'] = label['buy']\n",
    "label['bin_buy'] = label['bin_buy'].replace(3.0,2.0)\n",
    "\n",
    "label_statics(label, label.columns[1:])"
   ]
  },
  {
   "cell_type": "markdown",
   "metadata": {},
   "source": [
    "## pid_cid"
   ]
  },
  {
   "cell_type": "code",
   "execution_count": 10,
   "metadata": {},
   "outputs": [
    {
     "name": "stdout",
     "output_type": "stream",
     "text": [
      "<class 'pandas.core.frame.DataFrame'>\n",
      "RangeIndex: 846811 entries, 0 to 846810\n",
      "Data columns (total 2 columns):\n",
      " #   Column  Non-Null Count   Dtype\n",
      "---  ------  --------------   -----\n",
      " 0   pid     846811 non-null  int64\n",
      " 1   cid     846811 non-null  int64\n",
      "dtypes: int64(2)\n",
      "memory usage: 12.9 MB\n",
      "None\n",
      "####### Repeat ####### \n",
      " False\n",
      "####### Count ####### \n",
      " pid    846811\n",
      "cid      6769\n",
      "dtype: int64\n",
      "####### Example ####### \n",
      "       pid   cid\n",
      "0   63133  6406\n",
      "1  313401  6406\n",
      "2  248909   392\n",
      "3  208458   392\n",
      "4  110847  7211\n"
     ]
    }
   ],
   "source": [
    "pid_cid = pd.read_csv(os.path.join(raw_data_path, 'ad_feature.csv'), usecols=['adgroup_id', 'cate_id'])\n",
    "pid_cid.rename(columns={'adgroup_id':'pid','cate_id':'cid'}, inplace=True)\n",
    "\n",
    "show_df_info(pid_cid)"
   ]
  },
  {
   "cell_type": "markdown",
   "metadata": {},
   "source": [
    "## uid_pid"
   ]
  },
  {
   "cell_type": "code",
   "execution_count": 11,
   "metadata": {},
   "outputs": [
    {
     "name": "stdout",
     "output_type": "stream",
     "text": [
      "<class 'pandas.core.frame.DataFrame'>\n",
      "Int64Index: 507112 entries, 92 to 26557931\n",
      "Data columns (total 2 columns):\n",
      " #   Column  Non-Null Count   Dtype\n",
      "---  ------  --------------   -----\n",
      " 0   uid     507112 non-null  int64\n",
      " 1   pid     507112 non-null  int64\n",
      "dtypes: int64(2)\n",
      "memory usage: 11.6 MB\n",
      "None\n",
      "####### Repeat ####### \n",
      " False\n",
      "####### Count ####### \n",
      " uid    180902\n",
      "pid    144201\n",
      "dtype: int64\n",
      "####### Example ####### \n",
      "          uid  pid\n",
      "92    642854  102\n",
      "257   843732  102\n",
      "283  1076956  102\n",
      "300   358193  102\n",
      "350  1002263  102\n"
     ]
    }
   ],
   "source": [
    "uid_pid = pd.read_csv(os.path.join(raw_data_path, 'raw_sample.csv'), usecols=['user', 'adgroup_id', 'clk'])\n",
    "uid_pid.rename(columns={'user':'uid','adgroup_id':'pid'}, inplace=True)\n",
    "\n",
    "uid_pid = uid_pid[uid_pid['clk']>0]\n",
    "\n",
    "uid_pid.drop('clk', axis=1, inplace=True)\n",
    "\n",
    "uid_pid = uid_pid[uid_pid['uid'].isin(label['uid'])]\n",
    "uid_pid = uid_pid[uid_pid['pid'].isin(pid_cid['pid'])]\n",
    "\n",
    "uid_pid.drop_duplicates(inplace=True)\n",
    "\n",
    "show_df_info(uid_pid)"
   ]
  },
  {
   "cell_type": "markdown",
   "metadata": {},
   "source": [
    "# Filter & Process"
   ]
  },
  {
   "cell_type": "code",
   "execution_count": 12,
   "metadata": {},
   "outputs": [],
   "source": [
    "def get_count(tp, id):\n",
    "    playcount_groupbyid = tp[[id]].groupby(id, as_index=True)\n",
    "    count = playcount_groupbyid.size()\n",
    "    return count\n",
    "\n",
    "def filter_triplets(tp, user, item, min_uc=0, min_sc=0):\n",
    "    # Only keep the triplets for users who clicked on at least min_uc items\n",
    "    if min_uc > 0:\n",
    "        usercount = get_count(tp, user)\n",
    "        tp = tp[tp[user].isin(usercount.index[usercount >= min_uc])]\n",
    "    \n",
    "    # Only keep the triplets for items which were clicked on by at least min_sc users. \n",
    "    if min_sc > 0:\n",
    "        itemcount = get_count(tp, item)\n",
    "        tp = tp[tp[item].isin(itemcount.index[itemcount >= min_sc])]\n",
    "    \n",
    "    # Update both usercount and itemcount after filtering\n",
    "    usercount, itemcount = get_count(tp, user), get_count(tp, item) \n",
    "    return tp, usercount, itemcount"
   ]
  },
  {
   "cell_type": "markdown",
   "metadata": {},
   "source": [
    "## Filter uid_pid (item interactions >= 2)"
   ]
  },
  {
   "cell_type": "code",
   "execution_count": 13,
   "metadata": {},
   "outputs": [
    {
     "name": "stdout",
     "output_type": "stream",
     "text": [
      "After filtering, there are 427464 interacton events from 166958 users and 64553 items (sparsity: 0.0040%)\n"
     ]
    }
   ],
   "source": [
    "uid_pid, uid_activity, pid_popularity = filter_triplets(uid_pid, 'uid', 'pid', min_uc=0, min_sc=2) # min_sc>=2\n",
    "\n",
    "sparsity = 1. * uid_pid.shape[0] / (uid_activity.shape[0] * pid_popularity.shape[0])\n",
    "\n",
    "print(\"After filtering, there are %d interacton events from %d users and %d items (sparsity: %.4f%%)\" % \n",
    "      (uid_pid.shape[0], uid_activity.shape[0], pid_popularity.shape[0], sparsity * 100))"
   ]
  },
  {
   "cell_type": "code",
   "execution_count": 14,
   "metadata": {},
   "outputs": [
    {
     "name": "stdout",
     "output_type": "stream",
     "text": [
      "<class 'pandas.core.frame.DataFrame'>\n",
      "Int64Index: 427464 entries, 92 to 26557917\n",
      "Data columns (total 2 columns):\n",
      " #   Column  Non-Null Count   Dtype\n",
      "---  ------  --------------   -----\n",
      " 0   uid     427464 non-null  int64\n",
      " 1   pid     427464 non-null  int64\n",
      "dtypes: int64(2)\n",
      "memory usage: 9.8 MB\n",
      "None\n",
      "####### Repeat ####### \n",
      " False\n",
      "####### Count ####### \n",
      " uid    166958\n",
      "pid     64553\n",
      "dtype: int64\n",
      "####### Example ####### \n",
      "          uid  pid\n",
      "92    642854  102\n",
      "257   843732  102\n",
      "283  1076956  102\n",
      "300   358193  102\n",
      "350  1002263  102\n"
     ]
    }
   ],
   "source": [
    "show_df_info(uid_pid)"
   ]
  },
  {
   "cell_type": "markdown",
   "metadata": {},
   "source": [
    "## uid_cid"
   ]
  },
  {
   "cell_type": "code",
   "execution_count": 15,
   "metadata": {},
   "outputs": [
    {
     "name": "stdout",
     "output_type": "stream",
     "text": [
      "<class 'pandas.core.frame.DataFrame'>\n",
      "Int64Index: 306057 entries, 0 to 427463\n",
      "Data columns (total 2 columns):\n",
      " #   Column  Non-Null Count   Dtype\n",
      "---  ------  --------------   -----\n",
      " 0   uid     306057 non-null  int64\n",
      " 1   cid     306057 non-null  int64\n",
      "dtypes: int64(2)\n",
      "memory usage: 7.0 MB\n",
      "None\n",
      "####### Repeat ####### \n",
      " False\n",
      "####### Count ####### \n",
      " uid    166958\n",
      "cid      2820\n",
      "dtype: int64\n",
      "####### Example ####### \n",
      "        uid  cid\n",
      "0   642854  126\n",
      "1   843732  126\n",
      "2  1076956  126\n",
      "3   358193  126\n",
      "4  1002263  126\n"
     ]
    }
   ],
   "source": [
    "uid_pid_cid = pd.merge(uid_pid, pid_cid, how='inner', on='pid')\n",
    "raw_uid_cid = uid_pid_cid.drop('pid', axis=1, inplace=False)\n",
    "raw_uid_cid.drop_duplicates(inplace=True)\n",
    "\n",
    "show_df_info(raw_uid_cid)"
   ]
  },
  {
   "cell_type": "markdown",
   "metadata": {},
   "source": [
    "## Filter uid_cid (cid interactions >= 2 is optional)"
   ]
  },
  {
   "cell_type": "code",
   "execution_count": 16,
   "metadata": {},
   "outputs": [
    {
     "name": "stdout",
     "output_type": "stream",
     "text": [
      "After filtering, there are 306057 interacton events from 166958 users and 2820 items (sparsity: 0.0650%)\n"
     ]
    }
   ],
   "source": [
    "uid_cid, uid_activity, cid_popularity = filter_triplets(raw_uid_cid, 'uid', 'cid', min_uc=0, min_sc=2) # min_sc>=2\n",
    "\n",
    "sparsity = 1. * uid_cid.shape[0] / (uid_activity.shape[0] * cid_popularity.shape[0])\n",
    "\n",
    "print(\"After filtering, there are %d interacton events from %d users and %d items (sparsity: %.4f%%)\" % \n",
    "      (uid_cid.shape[0], uid_activity.shape[0], cid_popularity.shape[0], sparsity * 100))"
   ]
  },
  {
   "cell_type": "code",
   "execution_count": 17,
   "metadata": {},
   "outputs": [
    {
     "name": "stdout",
     "output_type": "stream",
     "text": [
      "<class 'pandas.core.frame.DataFrame'>\n",
      "Int64Index: 306057 entries, 0 to 427463\n",
      "Data columns (total 2 columns):\n",
      " #   Column  Non-Null Count   Dtype\n",
      "---  ------  --------------   -----\n",
      " 0   uid     306057 non-null  int64\n",
      " 1   cid     306057 non-null  int64\n",
      "dtypes: int64(2)\n",
      "memory usage: 7.0 MB\n",
      "None\n",
      "####### Repeat ####### \n",
      " False\n",
      "####### Count ####### \n",
      " uid    166958\n",
      "cid      2820\n",
      "dtype: int64\n",
      "####### Example ####### \n",
      "        uid  cid\n",
      "0   642854  126\n",
      "1   843732  126\n",
      "2  1076956  126\n",
      "3   358193  126\n",
      "4  1002263  126\n"
     ]
    }
   ],
   "source": [
    "show_df_info(uid_cid)"
   ]
  },
  {
   "cell_type": "markdown",
   "metadata": {},
   "source": [
    "## uid_uid"
   ]
  },
  {
   "cell_type": "code",
   "execution_count": 18,
   "metadata": {},
   "outputs": [],
   "source": [
    "uid_pid = uid_pid[uid_pid['uid'].isin(uid_cid['uid'])]\n",
    "\n",
    "uid_pid_1 = uid_pid[['uid','pid']].copy()\n",
    "uid_pid_1.rename(columns={'uid':'uid1'}, inplace=True)\n",
    "\n",
    "uid_pid_2 = uid_pid[['uid','pid']].copy()\n",
    "uid_pid_2.rename(columns={'uid':'uid2'}, inplace=True)"
   ]
  },
  {
   "cell_type": "code",
   "execution_count": 19,
   "metadata": {},
   "outputs": [
    {
     "name": "stdout",
     "output_type": "stream",
     "text": [
      "<class 'pandas.core.frame.DataFrame'>\n",
      "Int64Index: 29061406 entries, 0 to 29616698\n",
      "Data columns (total 2 columns):\n",
      " #   Column  Dtype\n",
      "---  ------  -----\n",
      " 0   uid1    int64\n",
      " 1   uid2    int64\n",
      "dtypes: int64(2)\n",
      "memory usage: 665.2 MB\n",
      "None\n",
      "####### Repeat ####### \n",
      " False\n",
      "####### Count ####### \n",
      " uid1    166958\n",
      "uid2    166958\n",
      "dtype: int64\n",
      "####### Example ####### \n",
      "      uid1     uid2\n",
      "0  642854   642854\n",
      "1  642854   843732\n",
      "2  642854  1076956\n",
      "3  642854   358193\n",
      "4  642854  1002263\n"
     ]
    }
   ],
   "source": [
    "uid_pid_uid = pd.merge(uid_pid_1, uid_pid_2, how='inner', on='pid')\n",
    "uid_uid = uid_pid_uid.drop('pid', axis=1, inplace=False)\n",
    "uid_uid.drop_duplicates(inplace=True)\n",
    "\n",
    "show_df_info(uid_uid)"
   ]
  },
  {
   "cell_type": "code",
   "execution_count": 20,
   "metadata": {},
   "outputs": [],
   "source": [
    "del uid_pid_1, uid_pid_2, uid_pid_uid"
   ]
  },
  {
   "cell_type": "markdown",
   "metadata": {},
   "source": [
    "# Map"
   ]
  },
  {
   "cell_type": "code",
   "execution_count": 21,
   "metadata": {},
   "outputs": [],
   "source": [
    "user_label = label[label['uid'].isin(uid_cid['uid'])]"
   ]
  },
  {
   "cell_type": "code",
   "execution_count": 22,
   "metadata": {},
   "outputs": [],
   "source": [
    "uid2id = {num: i for i, num in enumerate(user_label['uid'])}\n",
    "cid2id = {num: i for i, num in enumerate(pd.unique(uid_cid['cid']))}\n",
    "\n",
    "def col_map(df, col, num2id):\n",
    "    df[[col]] = df[[col]].applymap(lambda x: num2id[x])\n",
    "    return df\n",
    "\n",
    "def label_map(label_df, label_list):\n",
    "    for label in label_list:\n",
    "        label2id = {num: i for i, num in enumerate(pd.unique(label_df[label]))}\n",
    "        label_df = col_map(label_df, label, label2id)\n",
    "    return label_df"
   ]
  },
  {
   "cell_type": "code",
   "execution_count": 23,
   "metadata": {},
   "outputs": [
    {
     "name": "stdout",
     "output_type": "stream",
     "text": [
      "####### nCount #######\n",
      "2    124766\n",
      "1     42192\n",
      "Name: gender, dtype: int64\n",
      "3    51467\n",
      "4    39571\n",
      "2    36291\n",
      "5    29319\n",
      "1     7561\n",
      "6     2693\n",
      "0       56\n",
      "Name: age, dtype: int64\n",
      "2.0    100679\n",
      "1.0     54233\n",
      "3.0     12046\n",
      "Name: buy, dtype: int64\n",
      "0    155240\n",
      "1     11718\n",
      "Name: student, dtype: int64\n",
      "2.0    74810\n",
      "3.0    41577\n",
      "4.0    33160\n",
      "1.0    17411\n",
      "Name: city, dtype: int64\n",
      "0    115491\n",
      "1     51467\n",
      "Name: bin_age, dtype: int64\n",
      "2.0    112725\n",
      "1.0     54233\n",
      "Name: bin_buy, dtype: int64\n",
      "####### nPercent #######\n",
      "2    0.74729\n",
      "1    0.25271\n",
      "Name: gender, dtype: float64\n",
      "3    0.308263\n",
      "4    0.237012\n",
      "2    0.217366\n",
      "5    0.175607\n",
      "1    0.045287\n",
      "6    0.016130\n",
      "0    0.000335\n",
      "Name: age, dtype: float64\n",
      "2.0    0.60302\n",
      "1.0    0.32483\n",
      "3.0    0.07215\n",
      "Name: buy, dtype: float64\n",
      "0    0.929815\n",
      "1    0.070185\n",
      "Name: student, dtype: float64\n",
      "2.0    0.448077\n",
      "3.0    0.249027\n",
      "4.0    0.198613\n",
      "1.0    0.104284\n",
      "Name: city, dtype: float64\n",
      "0    0.691737\n",
      "1    0.308263\n",
      "Name: bin_age, dtype: float64\n",
      "2.0    0.67517\n",
      "1.0    0.32483\n",
      "Name: bin_buy, dtype: float64\n"
     ]
    }
   ],
   "source": [
    "label_statics(user_label, user_label.columns[1:])"
   ]
  },
  {
   "cell_type": "code",
   "execution_count": 24,
   "metadata": {},
   "outputs": [
    {
     "name": "stderr",
     "output_type": "stream",
     "text": [
      "/home/purificato/.local/lib/python3.8/site-packages/pandas/core/frame.py:3641: SettingWithCopyWarning: \n",
      "A value is trying to be set on a copy of a slice from a DataFrame.\n",
      "Try using .loc[row_indexer,col_indexer] = value instead\n",
      "\n",
      "See the caveats in the documentation: https://pandas.pydata.org/pandas-docs/stable/user_guide/indexing.html#returning-a-view-versus-a-copy\n",
      "  self[k1] = value[k2]\n"
     ]
    },
    {
     "name": "stdout",
     "output_type": "stream",
     "text": [
      "<class 'pandas.core.frame.DataFrame'>\n",
      "Int64Index: 166958 entries, 1 to 1061754\n",
      "Data columns (total 8 columns):\n",
      " #   Column   Non-Null Count   Dtype\n",
      "---  ------   --------------   -----\n",
      " 0   uid      166958 non-null  int64\n",
      " 1   gender   166958 non-null  int64\n",
      " 2   age      166958 non-null  int64\n",
      " 3   buy      166958 non-null  int64\n",
      " 4   student  166958 non-null  int64\n",
      " 5   city     166958 non-null  int64\n",
      " 6   bin_age  166958 non-null  int64\n",
      " 7   bin_buy  166958 non-null  int64\n",
      "dtypes: int64(8)\n",
      "memory usage: 11.5 MB\n",
      "None\n",
      "####### Repeat ####### \n",
      " False\n",
      "####### Count ####### \n",
      " uid        166958\n",
      "gender          2\n",
      "age             7\n",
      "buy             3\n",
      "student         2\n",
      "city            4\n",
      "bin_age         2\n",
      "bin_buy         2\n",
      "dtype: int64\n",
      "####### Example ####### \n",
      "     uid  gender  age  buy  student  city  bin_age  bin_buy\n",
      "1     0       0    0    0        0     0        0        0\n",
      "5     1       0    1    1        1     0        0        1\n",
      "6     2       0    2    1        1     0        0        1\n",
      "9     3       0    2    1        1     1        0        1\n",
      "10    4       0    0    1        0     0        0        1\n"
     ]
    }
   ],
   "source": [
    "user_label = col_map(user_label, 'uid', uid2id)\n",
    "user_label = label_map(user_label, user_label.columns[1:])\n",
    "\n",
    "show_df_info(user_label)"
   ]
  },
  {
   "cell_type": "code",
   "execution_count": 25,
   "metadata": {},
   "outputs": [
    {
     "name": "stdout",
     "output_type": "stream",
     "text": [
      "<class 'pandas.core.frame.DataFrame'>\n",
      "Int64Index: 29061406 entries, 0 to 29616698\n",
      "Data columns (total 2 columns):\n",
      " #   Column  Dtype\n",
      "---  ------  -----\n",
      " 0   uid1    int64\n",
      " 1   uid2    int64\n",
      "dtypes: int64(2)\n",
      "memory usage: 665.2 MB\n",
      "None\n",
      "####### Repeat ####### \n",
      " False\n",
      "####### Count ####### \n",
      " uid1    166958\n",
      "uid2    166958\n",
      "dtype: int64\n",
      "####### Example ####### \n",
      "      uid1    uid2\n",
      "0  118017  118017\n",
      "1  118017   42978\n",
      "2  118017    6673\n",
      "3  118017   33244\n",
      "4  118017   42163\n"
     ]
    }
   ],
   "source": [
    "user_edge = uid_uid[uid_uid['uid1'].isin(uid_cid['uid'])]\n",
    "user_edge = user_edge[user_edge['uid2'].isin(uid_cid['uid'])]\n",
    "\n",
    "user_edge = col_map(user_edge, 'uid1', uid2id)\n",
    "user_edge = col_map(user_edge, 'uid2', uid2id)\n",
    "\n",
    "show_df_info(user_edge)"
   ]
  },
  {
   "cell_type": "code",
   "execution_count": 26,
   "metadata": {},
   "outputs": [
    {
     "name": "stdout",
     "output_type": "stream",
     "text": [
      "<class 'pandas.core.frame.DataFrame'>\n",
      "Int64Index: 306057 entries, 0 to 427463\n",
      "Data columns (total 2 columns):\n",
      " #   Column  Non-Null Count   Dtype\n",
      "---  ------  --------------   -----\n",
      " 0   uid     306057 non-null  int64\n",
      " 1   cid     306057 non-null  int64\n",
      "dtypes: int64(2)\n",
      "memory usage: 7.0 MB\n",
      "None\n",
      "####### Repeat ####### \n",
      " False\n",
      "####### Count ####### \n",
      " uid    166958\n",
      "cid      2820\n",
      "dtype: int64\n",
      "####### Example ####### \n",
      "       uid  cid\n",
      "0  118017    0\n",
      "1   42978    0\n",
      "2    6673    0\n",
      "3   33244    0\n",
      "4   42163    0\n"
     ]
    }
   ],
   "source": [
    "user_field = col_map(uid_cid, 'uid', uid2id)\n",
    "user_field = col_map(user_field, 'cid', cid2id)\n",
    "\n",
    "show_df_info(user_field)"
   ]
  },
  {
   "cell_type": "code",
   "execution_count": 27,
   "metadata": {},
   "outputs": [
    {
     "name": "stdout",
     "output_type": "stream",
     "text": [
      "####### nCount #######\n",
      "0         1\n",
      "111318    1\n",
      "111300    1\n",
      "111301    1\n",
      "111302    1\n",
      "         ..\n",
      "55654     1\n",
      "55655     1\n",
      "55656     1\n",
      "55657     1\n",
      "166957    1\n",
      "Name: uid, Length: 166958, dtype: int64\n",
      "0    124766\n",
      "1     42192\n",
      "Name: gender, dtype: int64\n",
      "4    51467\n",
      "3    39571\n",
      "0    36291\n",
      "2    29319\n",
      "5     7561\n",
      "1     2693\n",
      "6       56\n",
      "Name: age, dtype: int64\n",
      "1    100679\n",
      "0     54233\n",
      "2     12046\n",
      "Name: buy, dtype: int64\n",
      "1    155240\n",
      "0     11718\n",
      "Name: student, dtype: int64\n",
      "0    74810\n",
      "3    41577\n",
      "2    33160\n",
      "1    17411\n",
      "Name: city, dtype: int64\n",
      "0    115491\n",
      "1     51467\n",
      "Name: bin_age, dtype: int64\n",
      "1    112725\n",
      "0     54233\n",
      "Name: bin_buy, dtype: int64\n",
      "####### nPercent #######\n",
      "0         0.000006\n",
      "111318    0.000006\n",
      "111300    0.000006\n",
      "111301    0.000006\n",
      "111302    0.000006\n",
      "            ...   \n",
      "55654     0.000006\n",
      "55655     0.000006\n",
      "55656     0.000006\n",
      "55657     0.000006\n",
      "166957    0.000006\n",
      "Name: uid, Length: 166958, dtype: float64\n",
      "0    0.74729\n",
      "1    0.25271\n",
      "Name: gender, dtype: float64\n",
      "4    0.308263\n",
      "3    0.237012\n",
      "0    0.217366\n",
      "2    0.175607\n",
      "5    0.045287\n",
      "1    0.016130\n",
      "6    0.000335\n",
      "Name: age, dtype: float64\n",
      "1    0.60302\n",
      "0    0.32483\n",
      "2    0.07215\n",
      "Name: buy, dtype: float64\n",
      "1    0.929815\n",
      "0    0.070185\n",
      "Name: student, dtype: float64\n",
      "0    0.448077\n",
      "3    0.249027\n",
      "2    0.198613\n",
      "1    0.104284\n",
      "Name: city, dtype: float64\n",
      "0    0.691737\n",
      "1    0.308263\n",
      "Name: bin_age, dtype: float64\n",
      "1    0.67517\n",
      "0    0.32483\n",
      "Name: bin_buy, dtype: float64\n"
     ]
    }
   ],
   "source": [
    "label_statics(user_label, user_label[1:])"
   ]
  },
  {
   "cell_type": "markdown",
   "metadata": {},
   "source": [
    "# Save"
   ]
  },
  {
   "cell_type": "code",
   "execution_count": 28,
   "metadata": {},
   "outputs": [],
   "source": [
    "# save_path = \"./input_ali_data\"\n",
    "save_path = \"./input_ali_data/new_age_split_only3\""
   ]
  },
  {
   "cell_type": "code",
   "execution_count": 29,
   "metadata": {},
   "outputs": [],
   "source": [
    "user_edge.to_csv(os.path.join(save_path, 'user_edge.csv'), index=False)\n",
    "user_field.to_csv(os.path.join(save_path, 'user_field.csv'), index=False)\n",
    "user_label.to_csv(os.path.join(save_path, 'user_labels.csv'), index=False)\n",
    "\n",
    "user_label[['uid','buy']].to_csv(os.path.join(save_path, 'user_buy.csv'), index=False)\n",
    "user_label[['uid','city']].to_csv(os.path.join(save_path, 'user_city.csv'), index=False)\n",
    "user_label[['uid','age']].to_csv(os.path.join(save_path, 'user_age.csv'), index=False)\n",
    "user_label[['uid','gender']].to_csv(os.path.join(save_path, 'user_gender.csv'), index=False)\n",
    "user_label[['uid','student']].to_csv(os.path.join(save_path, 'user_student.csv'), index=False)\n",
    "user_label[['uid','bin_age']].to_csv(os.path.join(save_path, 'user_bin_age.csv'), index=False)\n",
    "user_label[['uid','bin_buy']].to_csv(os.path.join(save_path, 'user_bin_buy.csv'), index=False)"
   ]
  },
  {
   "cell_type": "markdown",
   "metadata": {},
   "source": [
    "# Reprocess"
   ]
  },
  {
   "cell_type": "code",
   "execution_count": 30,
   "metadata": {},
   "outputs": [
    {
     "name": "stdout",
     "output_type": "stream",
     "text": [
      "Shapes of user with field: (166958, 2820)\n",
      "Number of user with field: 166958\n",
      "Shape of sampled user_field: (166958, 10)\n"
     ]
    }
   ],
   "source": [
    "import numpy as np\n",
    "import pandas as pd\n",
    "import scipy.sparse as sp\n",
    "\n",
    "import time\n",
    "\n",
    "NUM_FIELD = 10\n",
    "\n",
    "np.random.seed(42)\n",
    "\n",
    "def field_reader(path):\n",
    "    \"\"\"\n",
    "    Reading the sparse field matrix stored as csv from the disk.\n",
    "    :param path: Path to the csv file.\n",
    "    :return field: csr matrix of field.\n",
    "    \"\"\"\n",
    "    user_field = pd.read_csv(path)\n",
    "    user_index = user_field[\"uid\"].values.tolist()\n",
    "    field_index = user_field[\"cid\"].values.tolist()\n",
    "    user_count = max(user_index)+1\n",
    "    field_count = max(field_index)+1\n",
    "    field_index = sp.csr_matrix((np.ones_like(user_index), (user_index, field_index)), shape=(user_count, field_count))\n",
    "    return field_index\n",
    "\n",
    "user_field = field_reader(os.path.join(save_path, 'user_field.csv'))\n",
    "\n",
    "print(\"Shapes of user with field:\", user_field.shape)\n",
    "print(\"Number of user with field:\", np.count_nonzero(np.sum(user_field, axis=1)))\n",
    "\n",
    "def get_neighs(csr):\n",
    "    neighs = []\n",
    "#     t = time.time()\n",
    "    idx = np.arange(csr.shape[1])\n",
    "    for i in range(csr.shape[0]):\n",
    "        x = csr[i, :].toarray()[0] > 0\n",
    "        neighs.append(idx[x])\n",
    "#         if i % (10*1000) == 0:\n",
    "#             print('sec/10k:', time.time()-t)\n",
    "    return neighs\n",
    "\n",
    "def sample_neigh(neigh, num_sample):\n",
    "    if len(neigh) >= num_sample:\n",
    "        sample_neigh = np.random.choice(neigh, num_sample, replace=False)\n",
    "    elif len(neigh) < num_sample:\n",
    "        sample_neigh = np.random.choice(neigh, num_sample, replace=True)\n",
    "    return sample_neigh\n",
    "\n",
    "neighs = get_neighs(user_field)\n",
    "\n",
    "sample_neighs = []\n",
    "for i in range(len(neighs)):\n",
    "    sample_neighs.append(list(sample_neigh(neighs[i], NUM_FIELD)))\n",
    "sample_neighs = np.array(sample_neighs)\n",
    "\n",
    "np.save(os.path.join(save_path, 'user_field.npy'), sample_neighs)\n",
    "\n",
    "print('Shape of sampled user_field:', sample_neighs.shape)"
   ]
  }
 ],
 "metadata": {
  "interpreter": {
   "hash": "31f2aee4e71d21fbe5cf8b01ff0e069b9275f58929596ceb00d14d90e3e16cd6"
  },
  "kernelspec": {
   "display_name": "Python 3.8.10 64-bit",
   "language": "python",
   "name": "python3"
  },
  "language_info": {
   "codemirror_mode": {
    "name": "ipython",
    "version": 3
   },
   "file_extension": ".py",
   "mimetype": "text/x-python",
   "name": "python",
   "nbconvert_exporter": "python",
   "pygments_lexer": "ipython3",
   "version": "3.8.10"
  },
  "orig_nbformat": 4
 },
 "nbformat": 4,
 "nbformat_minor": 2
}
