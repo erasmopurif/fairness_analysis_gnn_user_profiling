{
 "cells": [
  {
   "cell_type": "markdown",
   "metadata": {},
   "source": [
    "# CatGCN - JD dataset process"
   ]
  },
  {
   "cell_type": "code",
   "execution_count": 1,
   "metadata": {},
   "outputs": [],
   "source": [
    "import pandas as pd\n",
    "import numpy as np\n",
    "import os"
   ]
  },
  {
   "cell_type": "code",
   "execution_count": 2,
   "metadata": {},
   "outputs": [],
   "source": [
    "def show_df_info(df):\n",
    "    print(df.info())\n",
    "    print('####### Repeat ####### \\n', df.duplicated().any())\n",
    "    print('####### Count ####### \\n', df.nunique())\n",
    "    print('####### Example ####### \\n',df.head())\n",
    "\n",
    "def label_statics(label_df, label_list):\n",
    "    print(\"####### nCount #######\")\n",
    "    for label in label_list:\n",
    "        print(label_df[label].value_counts())\n",
    "    print(\"####### nPercent #######\")\n",
    "    for label in label_list:\n",
    "        print(label_df[label].value_counts()/label_df.shape[0])"
   ]
  },
  {
   "cell_type": "markdown",
   "metadata": {},
   "source": [
    "## Base paths"
   ]
  },
  {
   "cell_type": "code",
   "execution_count": 3,
   "metadata": {},
   "outputs": [],
   "source": [
    "raw_data_path = '/home/purificato/papers_code/TKDE21_CatGCN/data/jd_data/_raw_data'"
   ]
  },
  {
   "cell_type": "markdown",
   "metadata": {},
   "source": [
    "## USER analysis"
   ]
  },
  {
   "cell_type": "code",
   "execution_count": 4,
   "metadata": {},
   "outputs": [
    {
     "name": "stdout",
     "output_type": "stream",
     "text": [
      "<class 'pandas.core.frame.DataFrame'>\n",
      "Int64Index: 100000 entries, 0 to 99999\n",
      "Data columns (total 3 columns):\n",
      " #   Column  Non-Null Count   Dtype\n",
      "---  ------  --------------   -----\n",
      " 0   uid     100000 non-null  int64\n",
      " 1   gender  100000 non-null  int64\n",
      " 2   age     100000 non-null  int64\n",
      "dtypes: int64(3)\n",
      "memory usage: 3.1 MB\n",
      "None\n",
      "####### Repeat ####### \n",
      " False\n",
      "####### Count ####### \n",
      " uid       100000\n",
      "gender         2\n",
      "age            5\n",
      "dtype: int64\n",
      "####### Example ####### \n",
      "    uid  gender  age\n",
      "0    0       0    0\n",
      "1    1       0    1\n",
      "2    2       0    1\n",
      "3    3       1    3\n",
      "4    4       1    1\n"
     ]
    }
   ],
   "source": [
    "df_user = pd.read_csv(os.path.join(raw_data_path, \"user\"))\n",
    "df_user.dropna(inplace=True)\n",
    "age_dic = {'11~15':0, '16~20':0, '21~25':0, '26~30':1, '31~35':1, '36~40':2, '41~45':2, '46~50':3, '51~55':3, '56~60':4, '61~65':4, '66~70':4, '71~':4}\n",
    "df_user[[\"age_range\"]] = df_user[[\"age_range\"]].applymap(lambda x:age_dic[x])\n",
    "df_user.rename(columns={\"user_id\":\"uid\", \"age_range\":\"age\"}, inplace=True)\n",
    "\n",
    "show_df_info(df_user)"
   ]
  },
  {
   "cell_type": "code",
   "execution_count": 5,
   "metadata": {},
   "outputs": [
    {
     "name": "stdout",
     "output_type": "stream",
     "text": [
      "####### nCount #######\n",
      "0    59500\n",
      "1    40500\n",
      "Name: gender, dtype: int64\n",
      "1    50824\n",
      "2    20847\n",
      "0    19288\n",
      "3     7100\n",
      "4     1941\n",
      "Name: age, dtype: int64\n",
      "####### nPercent #######\n",
      "0    0.595\n",
      "1    0.405\n",
      "Name: gender, dtype: float64\n",
      "1    0.50824\n",
      "2    0.20847\n",
      "0    0.19288\n",
      "3    0.07100\n",
      "4    0.01941\n",
      "Name: age, dtype: float64\n"
     ]
    }
   ],
   "source": [
    "label_statics(df_user, df_user.columns[1:])"
   ]
  },
  {
   "cell_type": "markdown",
   "metadata": {},
   "source": [
    "### bin_age"
   ]
  },
  {
   "cell_type": "code",
   "execution_count": 6,
   "metadata": {},
   "outputs": [
    {
     "name": "stdout",
     "output_type": "stream",
     "text": [
      "####### nCount #######\n",
      "0    59500\n",
      "1    40500\n",
      "Name: gender, dtype: int64\n",
      "1    50824\n",
      "2    20847\n",
      "0    19288\n",
      "3     7100\n",
      "4     1941\n",
      "Name: age, dtype: int64\n",
      "0    70112\n",
      "1    29888\n",
      "Name: bin_age, dtype: int64\n",
      "####### nPercent #######\n",
      "0    0.595\n",
      "1    0.405\n",
      "Name: gender, dtype: float64\n",
      "1    0.50824\n",
      "2    0.20847\n",
      "0    0.19288\n",
      "3    0.07100\n",
      "4    0.01941\n",
      "Name: age, dtype: float64\n",
      "0    0.70112\n",
      "1    0.29888\n",
      "Name: bin_age, dtype: float64\n"
     ]
    }
   ],
   "source": [
    "df_user[\"bin_age\"] = df_user[\"age\"]\n",
    "df_user[\"bin_age\"] = df_user[\"bin_age\"].replace(1,0)\n",
    "df_user[\"bin_age\"] = df_user[\"bin_age\"].replace(2,1)\n",
    "df_user[\"bin_age\"] = df_user[\"bin_age\"].replace(3,1)\n",
    "df_user[\"bin_age\"] = df_user[\"bin_age\"].replace(4,1)\n",
    "\n",
    "label_statics(df_user, df_user.columns[1:])"
   ]
  },
  {
   "cell_type": "markdown",
   "metadata": {},
   "source": [
    "## ITEM analysis"
   ]
  },
  {
   "cell_type": "code",
   "execution_count": 7,
   "metadata": {},
   "outputs": [
    {
     "name": "stdout",
     "output_type": "stream",
     "text": [
      "<class 'pandas.core.frame.DataFrame'>\n",
      "RangeIndex: 4730503 entries, 0 to 4730502\n",
      "Data columns (total 2 columns):\n",
      " #   Column  Dtype\n",
      "---  ------  -----\n",
      " 0   pid     int64\n",
      " 1   cid     int64\n",
      "dtypes: int64(2)\n",
      "memory usage: 72.2 MB\n",
      "None\n",
      "####### Repeat ####### \n",
      " False\n",
      "####### Count ####### \n",
      " pid    4730503\n",
      "cid       4098\n",
      "dtype: int64\n",
      "####### Example ####### \n",
      "             pid    cid\n",
      "0  100000002008  12015\n",
      "1  100000002009   6232\n",
      "2  100000002011   6232\n",
      "3  100000002012   9744\n",
      "4  100000002013  11153\n"
     ]
    }
   ],
   "source": [
    "df_item = pd.read_csv(os.path.join(raw_data_path, \"item_info\"))\n",
    "df_item.dropna(inplace=True)\n",
    "df_item.rename(columns={\"item_id\":\"pid\", \"cid3\":\"cid\"}, inplace=True)\n",
    "df_item.drop(columns=[\"cid1\", \"cid2\", \"cid1_name\", \"cid2_name\", \"cid3_name\", \"brand_code\", \"price\", \"item_name\", \"seg_name\"], inplace=True)\n",
    "df_item.reset_index(drop=True, inplace=True)\n",
    "\n",
    "show_df_info(df_item)"
   ]
  },
  {
   "cell_type": "code",
   "execution_count": 8,
   "metadata": {},
   "outputs": [
    {
     "name": "stdout",
     "output_type": "stream",
     "text": [
      "<class 'pandas.core.frame.DataFrame'>\n",
      "RangeIndex: 709575 entries, 0 to 709574\n",
      "Data columns (total 2 columns):\n",
      " #   Column  Non-Null Count   Dtype\n",
      "---  ------  --------------   -----\n",
      " 0   pid     709575 non-null  int64\n",
      " 1   cid     709575 non-null  int64\n",
      "dtypes: int64(2)\n",
      "memory usage: 10.8 MB\n",
      "None\n",
      "####### Repeat ####### \n",
      " False\n",
      "####### Count ####### \n",
      " pid    709575\n",
      "cid      3614\n",
      "dtype: int64\n",
      "####### Example ####### \n",
      "            pid    cid\n",
      "0  16756787137   1695\n",
      "1  28012078546  12039\n",
      "2  14673037900   1509\n",
      "3     11902157   9286\n",
      "4     12475079   3304\n"
     ]
    }
   ],
   "source": [
    "df_item = df_item.sample(frac=0.15, random_state=11)\n",
    "df_item.reset_index(drop=True, inplace=True)\n",
    "\n",
    "show_df_info(df_item)"
   ]
  },
  {
   "cell_type": "markdown",
   "metadata": {},
   "source": [
    "## CLICK analysis"
   ]
  },
  {
   "cell_type": "code",
   "execution_count": 9,
   "metadata": {},
   "outputs": [
    {
     "name": "stderr",
     "output_type": "stream",
     "text": [
      "/home/purificato/.local/lib/python3.8/site-packages/IPython/core/interactiveshell.py:3251: DtypeWarning: Columns (1) have mixed types.Specify dtype option on import or set low_memory=False.\n",
      "  exec(code_obj, self.user_global_ns, self.user_ns)\n"
     ]
    },
    {
     "name": "stdout",
     "output_type": "stream",
     "text": [
      "<class 'pandas.core.frame.DataFrame'>\n",
      "RangeIndex: 52983323 entries, 0 to 52983322\n",
      "Data columns (total 2 columns):\n",
      " #   Column  Dtype \n",
      "---  ------  ----- \n",
      " 0   uid     int64 \n",
      " 1   pid     object\n",
      "dtypes: int64(1), object(1)\n",
      "memory usage: 808.5+ MB\n",
      "None\n",
      "####### Repeat ####### \n",
      " True\n",
      "####### Count ####### \n",
      " uid      85177\n",
      "pid    8335109\n",
      "dtype: int64\n",
      "####### Example ####### \n",
      "    uid       pid\n",
      "0    0   1150551\n",
      "1    0  11133236\n",
      "2    0   6888601\n",
      "3    0   5812383\n",
      "4    0   4803330\n"
     ]
    }
   ],
   "source": [
    "df_click = pd.read_csv(os.path.join(raw_data_path, \"user_click\"), usecols=[0,1])\n",
    "df_click.dropna(inplace=True)\n",
    "df_click.rename(columns={\"user_id\":\"uid\", \"item_id\":\"pid\"}, inplace=True)\n",
    "df_click.reset_index(drop=True, inplace=True)\n",
    "\n",
    "show_df_info(df_click)"
   ]
  },
  {
   "cell_type": "code",
   "execution_count": 10,
   "metadata": {},
   "outputs": [
    {
     "name": "stdout",
     "output_type": "stream",
     "text": [
      "<class 'pandas.core.frame.DataFrame'>\n",
      "RangeIndex: 7947498 entries, 0 to 7947497\n",
      "Data columns (total 2 columns):\n",
      " #   Column  Dtype \n",
      "---  ------  ----- \n",
      " 0   uid     int64 \n",
      " 1   pid     object\n",
      "dtypes: int64(1), object(1)\n",
      "memory usage: 121.3+ MB\n",
      "None\n",
      "####### Repeat ####### \n",
      " True\n",
      "####### Count ####### \n",
      " uid      81173\n",
      "pid    2739082\n",
      "dtype: int64\n",
      "####### Example ####### \n",
      "      uid          pid\n",
      "0  91559       851954\n",
      "1  43488      5089253\n",
      "2  44568     12367746\n",
      "3  18466  26220866219\n",
      "4  80782      8591502\n"
     ]
    }
   ],
   "source": [
    "df_click = df_click.sample(frac=0.15, random_state=11)\n",
    "df_click.reset_index(drop=True, inplace=True)\n",
    "\n",
    "show_df_info(df_click)"
   ]
  },
  {
   "cell_type": "code",
   "execution_count": 11,
   "metadata": {},
   "outputs": [
    {
     "name": "stdout",
     "output_type": "stream",
     "text": [
      "<class 'pandas.core.frame.DataFrame'>\n",
      "RangeIndex: 454909 entries, 0 to 454908\n",
      "Data columns (total 2 columns):\n",
      " #   Column  Non-Null Count   Dtype \n",
      "---  ------  --------------   ----- \n",
      " 0   uid     454909 non-null  int64 \n",
      " 1   pid     454909 non-null  object\n",
      "dtypes: int64(1), object(1)\n",
      "memory usage: 6.9+ MB\n",
      "None\n",
      "####### Repeat ####### \n",
      " False\n",
      "####### Count ####### \n",
      " uid     41145\n",
      "pid    188573\n",
      "dtype: int64\n",
      "####### Example ####### \n",
      "      uid          pid\n",
      "0  29190  16237834468\n",
      "1  56519      4596108\n",
      "2  73751  21845916575\n",
      "3  30253     11798319\n",
      "4  88255      1228007\n"
     ]
    }
   ],
   "source": [
    "df_click = df_click[df_click[\"uid\"].isin(df_user[\"uid\"])]\n",
    "df_click = df_click[df_click[\"pid\"].isin(df_item[\"pid\"])]\n",
    "\n",
    "df_click.drop_duplicates(inplace=True)\n",
    "df_click.reset_index(drop=True, inplace=True)\n",
    "\n",
    "show_df_info(df_click)"
   ]
  },
  {
   "cell_type": "markdown",
   "metadata": {},
   "source": [
    "# Filter & Process"
   ]
  },
  {
   "cell_type": "code",
   "execution_count": 12,
   "metadata": {},
   "outputs": [],
   "source": [
    "def get_count(tp, id):\n",
    "    playcount_groupbyid = tp[[id]].groupby(id, as_index=True)\n",
    "    count = playcount_groupbyid.size()\n",
    "    return count\n",
    "\n",
    "def filter_triplets(tp, user, item, min_uc=0, min_sc=0):\n",
    "    # Only keep the triplets for users who clicked on at least min_uc items\n",
    "    if min_uc > 0:\n",
    "        usercount = get_count(tp, user)\n",
    "        tp = tp[tp[user].isin(usercount.index[usercount >= min_uc])]\n",
    "    \n",
    "    # Only keep the triplets for items which were clicked on by at least min_sc users. \n",
    "    if min_sc > 0:\n",
    "        itemcount = get_count(tp, item)\n",
    "        tp = tp[tp[item].isin(itemcount.index[itemcount >= min_sc])]\n",
    "    \n",
    "    # Update both usercount and itemcount after filtering\n",
    "    usercount, itemcount = get_count(tp, user), get_count(tp, item) \n",
    "    return tp, usercount, itemcount"
   ]
  },
  {
   "cell_type": "markdown",
   "metadata": {},
   "source": [
    "### filter df_click (item interactions >= 2)"
   ]
  },
  {
   "cell_type": "code",
   "execution_count": 13,
   "metadata": {},
   "outputs": [
    {
     "name": "stdout",
     "output_type": "stream",
     "text": [
      "41145 188573\n"
     ]
    }
   ],
   "source": [
    "# Before filtering\n",
    "users = set(df_click.uid.tolist())\n",
    "items = set(df_click.pid.tolist())\n",
    "\n",
    "print(len(users), len(items))"
   ]
  },
  {
   "cell_type": "code",
   "execution_count": 14,
   "metadata": {},
   "outputs": [
    {
     "name": "stdout",
     "output_type": "stream",
     "text": [
      "After filtering, there are 315970 interaction events from 38322 users and 49634 items (sparsity: 0.0166%)\n"
     ]
    }
   ],
   "source": [
    "df_click, uid_activity, pid_popularity = filter_triplets(df_click, 'uid', 'pid', min_uc=0, min_sc=2)\n",
    "\n",
    "sparsity = 1. * df_click.shape[0] / (uid_activity.shape[0] * pid_popularity.shape[0])\n",
    "\n",
    "print(\"After filtering, there are %d interaction events from %d users and %d items (sparsity: %.4f%%)\" % \n",
    "      (df_click.shape[0], uid_activity.shape[0], pid_popularity.shape[0], sparsity * 100))"
   ]
  },
  {
   "cell_type": "code",
   "execution_count": 15,
   "metadata": {},
   "outputs": [
    {
     "name": "stdout",
     "output_type": "stream",
     "text": [
      "38322 49634\n"
     ]
    }
   ],
   "source": [
    "# After filtering\n",
    "users = set(df_click.uid.tolist())\n",
    "items = set(df_click.pid.tolist())\n",
    "\n",
    "print(len(users), len(items))"
   ]
  },
  {
   "cell_type": "markdown",
   "metadata": {},
   "source": [
    "## CLICK-ITEM merge"
   ]
  },
  {
   "cell_type": "code",
   "execution_count": 16,
   "metadata": {},
   "outputs": [
    {
     "name": "stdout",
     "output_type": "stream",
     "text": [
      "<class 'pandas.core.frame.DataFrame'>\n",
      "Int64Index: 244318 entries, 0 to 315966\n",
      "Data columns (total 2 columns):\n",
      " #   Column  Non-Null Count   Dtype\n",
      "---  ------  --------------   -----\n",
      " 0   uid     244318 non-null  int64\n",
      " 1   cid     244318 non-null  int64\n",
      "dtypes: int64(2)\n",
      "memory usage: 5.6 MB\n",
      "None\n",
      "####### Repeat ####### \n",
      " False\n",
      "####### Count ####### \n",
      " uid    38322\n",
      "cid     2056\n",
      "dtype: int64\n",
      "####### Example ####### \n",
      "      uid    cid\n",
      "0  56519  13691\n",
      "1  60437  13691\n",
      "2  56461  13691\n",
      "3  56724  13691\n",
      "4  76507  13691\n"
     ]
    }
   ],
   "source": [
    "df_click_item = pd.merge(df_click, df_item, how=\"inner\", on=\"pid\")\n",
    "raw_click_item = df_click_item.drop(\"pid\", axis=1, inplace=False)\n",
    "raw_click_item.drop_duplicates(inplace=True)\n",
    "\n",
    "show_df_info(raw_click_item)"
   ]
  },
  {
   "cell_type": "markdown",
   "metadata": {},
   "source": [
    "### filter df_click_item (cid interactions >= 2)"
   ]
  },
  {
   "cell_type": "code",
   "execution_count": 17,
   "metadata": {},
   "outputs": [
    {
     "name": "stdout",
     "output_type": "stream",
     "text": [
      "After filtering, there are 244318 interacton events from 38322 users and 2056 items (sparsity: 0.3101%)\n"
     ]
    }
   ],
   "source": [
    "df_click_item, uid_activity, cid_popularity = filter_triplets(raw_click_item, 'uid', 'cid', min_uc=0, min_sc=2)\n",
    "\n",
    "sparsity = 1. * df_click_item.shape[0] / (uid_activity.shape[0] * cid_popularity.shape[0])\n",
    "\n",
    "print(\"After filtering, there are %d interacton events from %d users and %d items (sparsity: %.4f%%)\" % \n",
    "      (df_click_item.shape[0], uid_activity.shape[0], cid_popularity.shape[0], sparsity * 100))"
   ]
  },
  {
   "cell_type": "code",
   "execution_count": 18,
   "metadata": {},
   "outputs": [
    {
     "name": "stdout",
     "output_type": "stream",
     "text": [
      "<class 'pandas.core.frame.DataFrame'>\n",
      "Int64Index: 244318 entries, 0 to 315966\n",
      "Data columns (total 2 columns):\n",
      " #   Column  Non-Null Count   Dtype\n",
      "---  ------  --------------   -----\n",
      " 0   uid     244318 non-null  int64\n",
      " 1   cid     244318 non-null  int64\n",
      "dtypes: int64(2)\n",
      "memory usage: 5.6 MB\n",
      "None\n",
      "####### Repeat ####### \n",
      " False\n",
      "####### Count ####### \n",
      " uid    38322\n",
      "cid     2056\n",
      "dtype: int64\n",
      "####### Example ####### \n",
      "      uid    cid\n",
      "0  56519  13691\n",
      "1  60437  13691\n",
      "2  56461  13691\n",
      "3  56724  13691\n",
      "4  76507  13691\n"
     ]
    }
   ],
   "source": [
    "show_df_info(df_click_item)"
   ]
  },
  {
   "cell_type": "markdown",
   "metadata": {},
   "source": [
    "## UID-UID analysis"
   ]
  },
  {
   "cell_type": "code",
   "execution_count": 19,
   "metadata": {},
   "outputs": [],
   "source": [
    "df_click = df_click[df_click[\"uid\"].isin(df_click_item[\"uid\"])]"
   ]
  },
  {
   "cell_type": "code",
   "execution_count": 20,
   "metadata": {},
   "outputs": [],
   "source": [
    "df_click_1 = df_click[[\"uid\", \"pid\"]].copy()\n",
    "df_click_1.rename(columns={\"uid\":\"uid1\"}, inplace=True)\n",
    "\n",
    "df_click_2 = df_click[[\"uid\", \"pid\"]].copy()\n",
    "df_click_2.rename(columns={\"uid\":\"uid2\"}, inplace=True)"
   ]
  },
  {
   "cell_type": "code",
   "execution_count": 21,
   "metadata": {},
   "outputs": [
    {
     "name": "stdout",
     "output_type": "stream",
     "text": [
      "<class 'pandas.core.frame.DataFrame'>\n",
      "Int64Index: 14559244 entries, 0 to 15696670\n",
      "Data columns (total 2 columns):\n",
      " #   Column  Dtype\n",
      "---  ------  -----\n",
      " 0   uid1    int64\n",
      " 1   uid2    int64\n",
      "dtypes: int64(2)\n",
      "memory usage: 333.2 MB\n",
      "None\n",
      "####### Repeat ####### \n",
      " False\n",
      "####### Count ####### \n",
      " uid1    38322\n",
      "uid2    38322\n",
      "dtype: int64\n",
      "####### Example ####### \n",
      "     uid1   uid2\n",
      "0  56519  56519\n",
      "1  56519  60437\n",
      "2  56519  56461\n",
      "3  56519  56724\n",
      "4  56519  76507\n"
     ]
    }
   ],
   "source": [
    "df_click1_click2 = pd.merge(df_click_1, df_click_2, how=\"inner\", on=\"pid\")\n",
    "df_uid_uid = df_click1_click2.drop(\"pid\", axis=1, inplace=False)\n",
    "df_uid_uid.drop_duplicates(inplace=True)\n",
    "# df_uid_uid.reset_index(inplace=True)\n",
    "\n",
    "show_df_info(df_uid_uid)"
   ]
  },
  {
   "cell_type": "code",
   "execution_count": 22,
   "metadata": {},
   "outputs": [],
   "source": [
    "del df_click_1, df_click_2, df_click1_click2"
   ]
  },
  {
   "cell_type": "markdown",
   "metadata": {},
   "source": [
    "## Map"
   ]
  },
  {
   "cell_type": "code",
   "execution_count": 23,
   "metadata": {},
   "outputs": [],
   "source": [
    "df_label = df_user[df_user[\"uid\"].isin(df_click_item[\"uid\"])]"
   ]
  },
  {
   "cell_type": "code",
   "execution_count": 24,
   "metadata": {},
   "outputs": [
    {
     "name": "stdout",
     "output_type": "stream",
     "text": [
      "####### nCount #######\n",
      "0    24587\n",
      "1    13735\n",
      "Name: gender, dtype: int64\n",
      "1    18944\n",
      "2     8919\n",
      "0     6773\n",
      "3     2954\n",
      "4      732\n",
      "Name: age, dtype: int64\n",
      "0    25717\n",
      "1    12605\n",
      "Name: bin_age, dtype: int64\n",
      "####### nPercent #######\n",
      "0    0.64159\n",
      "1    0.35841\n",
      "Name: gender, dtype: float64\n",
      "1    0.494337\n",
      "2    0.232738\n",
      "0    0.176739\n",
      "3    0.077084\n",
      "4    0.019101\n",
      "Name: age, dtype: float64\n",
      "0    0.671077\n",
      "1    0.328923\n",
      "Name: bin_age, dtype: float64\n"
     ]
    }
   ],
   "source": [
    "label_statics(df_label, df_label.columns[1:])"
   ]
  },
  {
   "cell_type": "code",
   "execution_count": 25,
   "metadata": {},
   "outputs": [],
   "source": [
    "uid2id = {num: i for i, num in enumerate(df_label['uid'])}\n",
    "cid2id = {num: i for i, num in enumerate(pd.unique(df_click_item['cid']))}"
   ]
  },
  {
   "cell_type": "code",
   "execution_count": 26,
   "metadata": {},
   "outputs": [],
   "source": [
    "def col_map(df, col, num2id):\n",
    "    df[[col]] = df[[col]].applymap(lambda x: num2id[x])\n",
    "    return df\n",
    "\n",
    "\n",
    "def label_map(label_df, label_list):\n",
    "    for label in label_list:\n",
    "        label2id = {num: i for i, num in enumerate(pd.unique(label_df[label]))}\n",
    "        label_df = col_map(label_df, label, label2id)\n",
    "    return label_df"
   ]
  },
  {
   "cell_type": "code",
   "execution_count": 27,
   "metadata": {},
   "outputs": [
    {
     "name": "stdout",
     "output_type": "stream",
     "text": [
      "<class 'pandas.core.frame.DataFrame'>\n",
      "Int64Index: 38322 entries, 8 to 99998\n",
      "Data columns (total 4 columns):\n",
      " #   Column   Non-Null Count  Dtype\n",
      "---  ------   --------------  -----\n",
      " 0   uid      38322 non-null  int64\n",
      " 1   gender   38322 non-null  int64\n",
      " 2   age      38322 non-null  int64\n",
      " 3   bin_age  38322 non-null  int64\n",
      "dtypes: int64(4)\n",
      "memory usage: 1.5 MB\n",
      "None\n",
      "####### Repeat ####### \n",
      " False\n",
      "####### Count ####### \n",
      " uid        38322\n",
      "gender         2\n",
      "age            5\n",
      "bin_age        2\n",
      "dtype: int64\n",
      "####### Example ####### \n",
      "     uid  gender  age  bin_age\n",
      "8     0       0    0        0\n",
      "15    1       1    1        0\n",
      "18    2       0    2        1\n",
      "19    3       0    2        1\n",
      "21    4       1    0        0\n"
     ]
    },
    {
     "name": "stderr",
     "output_type": "stream",
     "text": [
      "/home/purificato/.local/lib/python3.8/site-packages/pandas/core/frame.py:3641: SettingWithCopyWarning: \n",
      "A value is trying to be set on a copy of a slice from a DataFrame.\n",
      "Try using .loc[row_indexer,col_indexer] = value instead\n",
      "\n",
      "See the caveats in the documentation: https://pandas.pydata.org/pandas-docs/stable/user_guide/indexing.html#returning-a-view-versus-a-copy\n",
      "  self[k1] = value[k2]\n"
     ]
    }
   ],
   "source": [
    "df_label = col_map(df_label, 'uid', uid2id)\n",
    "df_label = label_map(df_label, df_label.columns[1:])\n",
    "\n",
    "show_df_info(df_label)"
   ]
  },
  {
   "cell_type": "code",
   "execution_count": 28,
   "metadata": {},
   "outputs": [
    {
     "name": "stdout",
     "output_type": "stream",
     "text": [
      "<class 'pandas.core.frame.DataFrame'>\n",
      "Int64Index: 14559244 entries, 0 to 15696670\n",
      "Data columns (total 2 columns):\n",
      " #   Column  Dtype\n",
      "---  ------  -----\n",
      " 0   uid1    int64\n",
      " 1   uid2    int64\n",
      "dtypes: int64(2)\n",
      "memory usage: 333.2 MB\n",
      "None\n",
      "####### Repeat ####### \n",
      " False\n",
      "####### Count ####### \n",
      " uid1    38322\n",
      "uid2    38322\n",
      "dtype: int64\n",
      "####### Example ####### \n",
      "     uid1   uid2\n",
      "0  21984  21984\n",
      "1  21984  24513\n",
      "2  21984  21946\n",
      "3  21984  22106\n",
      "4  21984  34596\n"
     ]
    }
   ],
   "source": [
    "user_edge = df_uid_uid[df_uid_uid['uid1'].isin(df_click_item['uid'])]\n",
    "user_edge = user_edge[user_edge['uid2'].isin(df_click_item['uid'])]\n",
    "\n",
    "user_edge = col_map(user_edge, 'uid1', uid2id)\n",
    "user_edge = col_map(user_edge, 'uid2', uid2id)\n",
    "\n",
    "show_df_info(user_edge)"
   ]
  },
  {
   "cell_type": "code",
   "execution_count": 29,
   "metadata": {},
   "outputs": [
    {
     "name": "stdout",
     "output_type": "stream",
     "text": [
      "<class 'pandas.core.frame.DataFrame'>\n",
      "Int64Index: 244318 entries, 0 to 315966\n",
      "Data columns (total 2 columns):\n",
      " #   Column  Non-Null Count   Dtype\n",
      "---  ------  --------------   -----\n",
      " 0   uid     244318 non-null  int64\n",
      " 1   cid     244318 non-null  int64\n",
      "dtypes: int64(2)\n",
      "memory usage: 5.6 MB\n",
      "None\n",
      "####### Repeat ####### \n",
      " False\n",
      "####### Count ####### \n",
      " uid    38322\n",
      "cid     2056\n",
      "dtype: int64\n",
      "####### Example ####### \n",
      "      uid  cid\n",
      "0  21984    0\n",
      "1  24513    0\n",
      "2  21946    0\n",
      "3  22106    0\n",
      "4  34596    0\n"
     ]
    }
   ],
   "source": [
    "user_field = col_map(df_click_item, 'uid', uid2id)\n",
    "user_field = col_map(user_field, 'cid', cid2id)\n",
    "\n",
    "show_df_info(user_field)"
   ]
  },
  {
   "cell_type": "code",
   "execution_count": 30,
   "metadata": {},
   "outputs": [
    {
     "name": "stdout",
     "output_type": "stream",
     "text": [
      "####### nCount #######\n",
      "1    24587\n",
      "0    13735\n",
      "Name: gender, dtype: int64\n",
      "2    18944\n",
      "0     8919\n",
      "3     6773\n",
      "1     2954\n",
      "4      732\n",
      "Name: age, dtype: int64\n",
      "1    25717\n",
      "0    12605\n",
      "Name: bin_age, dtype: int64\n",
      "####### nPercent #######\n",
      "1    0.64159\n",
      "0    0.35841\n",
      "Name: gender, dtype: float64\n",
      "2    0.494337\n",
      "0    0.232738\n",
      "3    0.176739\n",
      "1    0.077084\n",
      "4    0.019101\n",
      "Name: age, dtype: float64\n",
      "1    0.671077\n",
      "0    0.328923\n",
      "Name: bin_age, dtype: float64\n"
     ]
    }
   ],
   "source": [
    "label_statics(df_label, df_label.columns[1:])"
   ]
  },
  {
   "cell_type": "markdown",
   "metadata": {},
   "source": [
    "## Save"
   ]
  },
  {
   "cell_type": "code",
   "execution_count": 31,
   "metadata": {},
   "outputs": [],
   "source": [
    "save_path = './input_jd_data/orig'"
   ]
  },
  {
   "cell_type": "code",
   "execution_count": 32,
   "metadata": {},
   "outputs": [],
   "source": [
    "user_edge.to_csv(os.path.join(save_path, \"user_edge.csv\"), index=False)\n",
    "user_field.to_csv(os.path.join(save_path, \"user_field.csv\"), index=False)"
   ]
  },
  {
   "cell_type": "code",
   "execution_count": 33,
   "metadata": {},
   "outputs": [],
   "source": [
    "df_label.to_csv(os.path.join(save_path, \"user_labels.csv\"), index=False)\n",
    "\n",
    "df_label[[\"uid\", \"age\"]].to_csv(os.path.join(save_path, \"user_age.csv\"), index=False)\n",
    "df_label[[\"uid\", \"bin_age\"]].to_csv(os.path.join(save_path, \"user_bin_age.csv\"), index=False)\n",
    "df_label[[\"uid\", \"gender\"]].to_csv(os.path.join(save_path, \"user_gender.csv\"), index=False)"
   ]
  },
  {
   "cell_type": "markdown",
   "metadata": {},
   "source": [
    "## Reprocess"
   ]
  },
  {
   "cell_type": "code",
   "execution_count": 34,
   "metadata": {},
   "outputs": [
    {
     "name": "stdout",
     "output_type": "stream",
     "text": [
      "Shapes of user with field: (38322, 2056)\n",
      "Number of user with field: 38322\n",
      "Shape of sampled user_field: (38322, 10)\n"
     ]
    }
   ],
   "source": [
    "import numpy as np\n",
    "import pandas as pd\n",
    "import scipy.sparse as sp\n",
    "\n",
    "import time\n",
    "\n",
    "NUM_FIELD = 10\n",
    "\n",
    "np.random.seed(42)\n",
    "\n",
    "def field_reader(path):\n",
    "    \"\"\"\n",
    "    Reading the sparse field matrix stored as csv from the disk.\n",
    "    :param path: Path to the csv file.\n",
    "    :return field: csr matrix of field.\n",
    "    \"\"\"\n",
    "    user_field = pd.read_csv(path)\n",
    "    user_index = user_field[\"uid\"].values.tolist()\n",
    "    field_index = user_field[\"cid\"].values.tolist()\n",
    "    user_count = max(user_index)+1\n",
    "    field_count = max(field_index)+1\n",
    "    field_index = sp.csr_matrix((np.ones_like(user_index), (user_index, field_index)), shape=(user_count, field_count))\n",
    "    return field_index\n",
    "\n",
    "user_field = field_reader(os.path.join(save_path, \"user_field.csv\"))\n",
    "\n",
    "print(\"Shapes of user with field:\", user_field.shape)\n",
    "print(\"Number of user with field:\", np.count_nonzero(np.sum(user_field, axis=1)))\n",
    "\n",
    "def get_neighs(csr):\n",
    "    neighs = []\n",
    "#     t = time.time()\n",
    "    idx = np.arange(csr.shape[1])\n",
    "    for i in range(csr.shape[0]):\n",
    "        x = csr[i, :].toarray()[0] > 0\n",
    "        neighs.append(idx[x])\n",
    "#         if i % (10*1000) == 0:\n",
    "#             print('sec/10k:', time.time()-t)\n",
    "    return neighs\n",
    "\n",
    "def sample_neigh(neigh, num_sample):\n",
    "    if len(neigh) >= num_sample:\n",
    "        sample_neigh = np.random.choice(neigh, num_sample, replace=False)\n",
    "    elif len(neigh) < num_sample:\n",
    "        sample_neigh = np.random.choice(neigh, num_sample, replace=True)\n",
    "    return sample_neigh\n",
    "\n",
    "neighs = get_neighs(user_field)\n",
    "\n",
    "sample_neighs = []\n",
    "for i in range(len(neighs)):\n",
    "    sample_neighs.append(list(sample_neigh(neighs[i], NUM_FIELD)))\n",
    "sample_neighs = np.array(sample_neighs)\n",
    "np.save(os.path.join(save_path, \"user_field.npy\"), sample_neighs)\n",
    "print('Shape of sampled user_field:', sample_neighs.shape)"
   ]
  }
 ],
 "metadata": {
  "interpreter": {
   "hash": "31f2aee4e71d21fbe5cf8b01ff0e069b9275f58929596ceb00d14d90e3e16cd6"
  },
  "kernelspec": {
   "display_name": "Python 3.8.10 64-bit",
   "language": "python",
   "name": "python3"
  },
  "language_info": {
   "codemirror_mode": {
    "name": "ipython",
    "version": 3
   },
   "file_extension": ".py",
   "mimetype": "text/x-python",
   "name": "python",
   "nbconvert_exporter": "python",
   "pygments_lexer": "ipython3",
   "version": "3.8.10"
  },
  "orig_nbformat": 4
 },
 "nbformat": 4,
 "nbformat_minor": 2
}
